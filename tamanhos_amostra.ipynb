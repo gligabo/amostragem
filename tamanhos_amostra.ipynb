{
 "cells": [
  {
   "cell_type": "code",
   "execution_count": 1,
   "id": "a98d2c0c",
   "metadata": {},
   "outputs": [],
   "source": [
    "import numpy as np\n",
    "\n",
    "def prop_aloc( n_no, N_estado, N_no ):\n",
    "    n_estado = n_no * N_estado / N_no\n",
    "    return n_estado"
   ]
  },
  {
   "cell_type": "code",
   "execution_count": 2,
   "id": "63f9fbe7",
   "metadata": {},
   "outputs": [
    {
     "name": "stdout",
     "output_type": "stream",
     "text": [
      "[110.28384776717199, 224.20130548494902, 511.32543365291065, 73.87783858295602, 107.12436573768977, 1158.5439122656405, 215.6432965086821]\n"
     ]
    }
   ],
   "source": [
    "#primeiro turno\n",
    "n_no = 2401\n",
    "N_no = 9925507\n",
    "N_estado = [455903, 926827, 2113771, 305404, 442842, 4789311, 891449]\n",
    "\n",
    "resultados_regiao = []\n",
    "for i in N_estado:\n",
    "    n_estado = prop_aloc( n_no, i, N_no )\n",
    "    resultados_regiao.append( n_estado )\n",
    "\n",
    "print( resultados_regiao )"
   ]
  },
  {
   "cell_type": "code",
   "execution_count": 3,
   "id": "4667515d",
   "metadata": {},
   "outputs": [
    {
     "name": "stdout",
     "output_type": "stream",
     "text": [
      "[104.41717806629443, 229.92748971016474, 513.1706248071076, 71.0414515349844, 99.4348040667769, 1166.7991795831808, 216.20927223149116]\n"
     ]
    }
   ],
   "source": [
    "#segundo turno\n",
    "n_no2 = 2401\n",
    "N_no2 = 9675082\n",
    "N_estado2 = [420760, 926517, 2067875, 286269, 400683, 4701740, 871238]\n",
    "\n",
    "resultados_regiao2 = []\n",
    "for i in N_estado2:\n",
    "    n_estado2 = prop_aloc( n_no2, i, N_no2 )\n",
    "    resultados_regiao2.append( n_estado2 )\n",
    "\n",
    "print( resultados_regiao2 )"
   ]
  },
  {
   "cell_type": "code",
   "execution_count": 4,
   "id": "c070f748",
   "metadata": {},
   "outputs": [
    {
     "name": "stdout",
     "output_type": "stream",
     "text": [
      "[44.95749393454388, 245.67124592338834, 527.8238301736321, 192.36872868997045, 132.55997178805723, 133.75332432984064, 87.11366785559385, 35.32904349538187, 74.01253104201461, 30.18953055816232, 36.732188318639295, 35.05864498620709, 172.28399566107933, 26.492880683109796, 109.26611764851987, 76.10595012682971, 41.07023145545753, 49.64739097177082, 111.39686721887902, 40.584119812967366, 8.850275793546391, 17.992148687122526, 41.033852188733896, 5.928694543471401, 8.596727446333258, 92.97311755146481, 17.30536869878272]\n"
     ]
    }
   ],
   "source": [
    "#primeiro turno\n",
    "n_br = 2401\n",
    "N_br = 123682372\n",
    "N_estado = [2315889, 12655228, 27189714, 9909463, 6828543, 6890016, 4487474, 1819900, 3812597, 1555149, 1892180, 1805971, 8874841, 1364724, 5628610, 3920435, 2115645, 2557479, 5738371, 2090604, 455903, 926827, 2113771, 305404, 442842, 4789311, 891449]\n",
    "\n",
    "resultados_brasil = []\n",
    "for i in N_estado:\n",
    "    n_estado = prop_aloc( n_br, i, N_br )\n",
    "    resultados_brasil.append( n_estado )\n",
    "\n",
    "print( resultados_brasil )"
   ]
  },
  {
   "cell_type": "code",
   "execution_count": 6,
   "id": "7ff63aec",
   "metadata": {},
   "outputs": [
    {
     "name": "stdout",
     "output_type": "stream",
     "text": [
      "[ 44. 246. 527. 193. 133. 133.  88.  36.  75.  31.  36.  36. 173.  27.\n",
      " 110.  77.  42.  50. 112.  41.   8.  17.  42.   5.   9.  92.  18.]\n",
      "2401.0\n"
     ]
    }
   ],
   "source": [
    "arredondados = np.floor(resultados_brasil)\n",
    "restantes = int(n_br - arredondados.sum())\n",
    "\n",
    "# Agora pega os estados com menores partes decimais\n",
    "indices_restantes = np.argsort(resultados_brasil - arredondados)[:restantes]\n",
    "arredondados[indices_restantes] += 1\n",
    "\n",
    "print(arredondados)\n",
    "print(arredondados.sum())\n"
   ]
  },
  {
   "cell_type": "code",
   "execution_count": 7,
   "id": "fcc97e7b",
   "metadata": {},
   "outputs": [
    {
     "name": "stdout",
     "output_type": "stream",
     "text": [
      "[44.874385514833804, 248.62175241513276, 529.0871594631963, 192.7292374330152, 133.34032676415586, 133.92837978470922, 87.78316438851002, 35.526116386145546, 74.59552661495037, 29.948984592668644, 36.970336112195014, 34.492231369988644, 173.36526518083343, 26.192378536093464, 109.1661921072585, 74.48833911149976, 40.357727885656594, 49.742866269182386, 112.09055396226255, 40.7493960860245, 8.13055957308196, 17.90355942573719, 39.95860081088236, 5.5317215477388535, 7.742601486408402, 90.85411438145826, 16.835375181416442]\n"
     ]
    }
   ],
   "source": [
    "#segundo turno\n",
    "\n",
    "n_br2 = 2401\n",
    "N_br2 = 124252796\n",
    "N_estado2 = [2322269, 12866284, 27380491, 9973822, 6900420, 6930852, 4542817, 1838492, 3860351, 1549873, 1913231, 1784988, 8971728, 1355467, 5649398, 3854804, 2088530, 2574215, 5800735, 2108799, 420760, 926517, 2067875, 286269, 400683, 4701740, 871238]\n",
    "\n",
    "resultados_brasil2 = []\n",
    "for i in N_estado2:\n",
    "    n_estado2 = prop_aloc( n_br2, i, N_br2 )\n",
    "    resultados_brasil2.append( n_estado2 )\n",
    "\n",
    "print( resultados_brasil2 )"
   ]
  },
  {
   "cell_type": "code",
   "execution_count": 8,
   "id": "a87efb03",
   "metadata": {},
   "outputs": [
    {
     "name": "stdout",
     "output_type": "stream",
     "text": [
      "[ 45. 249. 530. 193. 134. 133.  88.  36.  75.  29.  36.  35. 174.  27.\n",
      " 110.  75.  41.  50. 113.  41.   9.  17.  39.   6.   8.  91.  17.]\n",
      "2401.0\n"
     ]
    }
   ],
   "source": [
    "arredondados = np.floor(resultados_brasil2)\n",
    "restantes = int(n_br2 - arredondados.sum())\n",
    "\n",
    "# Agora pega os estados com menores partes decimais\n",
    "indices_restantes = np.argsort(resultados_brasil2 - arredondados)[:restantes]\n",
    "arredondados[indices_restantes] += 1\n",
    "\n",
    "print(arredondados)\n",
    "print(arredondados.sum())\n"
   ]
  }
 ],
 "metadata": {
  "kernelspec": {
   "display_name": "Python 3",
   "language": "python",
   "name": "python3"
  },
  "language_info": {
   "codemirror_mode": {
    "name": "ipython",
    "version": 3
   },
   "file_extension": ".py",
   "mimetype": "text/x-python",
   "name": "python",
   "nbconvert_exporter": "python",
   "pygments_lexer": "ipython3",
   "version": "3.13.3"
  }
 },
 "nbformat": 4,
 "nbformat_minor": 5
}
